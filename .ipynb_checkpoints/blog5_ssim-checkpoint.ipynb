{
 "cells": [
  {
   "cell_type": "markdown",
   "metadata": {},
   "source": [
    "# OpenCV Image Classifier"
   ]
  },
  {
   "cell_type": "code",
   "execution_count": 17,
   "metadata": {},
   "outputs": [],
   "source": [
    "from skimage.measure import compare_ssim as ssim \n",
    "#best method to compare images. Measures structural similarities index between two images\n",
    "import matplotlib.pyplot as plt\n",
    "%matplotlib inline \n",
    "import numpy as np\n",
    "#to calculate Mean Squared Error\n",
    "import cv2\n",
    "#To load imaged. From module OpenCV"
   ]
  },
  {
   "cell_type": "code",
   "execution_count": 18,
   "metadata": {},
   "outputs": [],
   "source": [
    "def mse(imageA, imageB):\n",
    "    err= np.sum((imageA.astype(\"float\") - imageB.astype(\"float\")) ** 2)\n",
    "    err /= float(imageA.shape[0] * imageA.shape[1])\n",
    "    return err"
   ]
  },
  {
   "cell_type": "code",
   "execution_count": 19,
   "metadata": {},
   "outputs": [],
   "source": [
    "def compare_image(imageA, imageB, title):\n",
    "    m= mse(imageA, imageB)\n",
    "    #s= ssim(imageA, imageB)\n",
    "    fig= plt.figure(title)\n",
    "    #plt.suptitle(\"MSE: %.2f, SSIM: %.2f\" % (m, s))    \n",
    "    plt.suptitle(\"MSE: %.2f\" % (m))\n",
    "    #plt.suptitle(\"SSIM: %.2f\" % (s))\n",
    "\n",
    "    \n",
    "    # show first image\n",
    "    ax = fig.add_subplot(1, 2, 1)\n",
    "    plt.imshow(imageA, cmap = plt.cm.gray)\n",
    "    plt.axis(\"off\")\n",
    "    # show the second image\n",
    "    ax = fig.add_subplot(1, 2, 2)\n",
    "    plt.imshow(imageB, cmap = plt.cm.gray)\n",
    "    plt.axis(\"off\")\n",
    "    \n",
    "    plt.show()\n"
   ]
  },
  {
   "cell_type": "code",
   "execution_count": 23,
   "metadata": {},
   "outputs": [],
   "source": [
    "imagen = cv2.imread('house/casa 1.jpg') \n",
    "cv2.imshow('Logo OpenCV',imagen)\n",
    "cv2.waitKey(3000)\n",
    "cv2.destroyAllWindows()"
   ]
  },
  {
   "cell_type": "code",
   "execution_count": 37,
   "metadata": {},
   "outputs": [],
   "source": [
    "#Loading the images \n",
    "dog_1= cv2.imread('dogs/dog-1.png')\n",
    "dog_2= cv2.imread('dogs/dog-2.png')\n",
    "dog_3= cv2.imread('dogs/dog-3.png')\n",
    "gate= cv2.imread('gates/jp_gates_original.png')\n",
    "cat_1= cv2.imread('cats/cat-1.png')\n",
    "cat_2= cv2.imread('cats/cat-2.png')\n",
    "cat_3= cv2.imread('cats/cat-3.png')\n",
    "\n",
    "casa_1= cv2.imread('house/casa 1.jpg')\n",
    "casa_1_gris= cv2.cvtColor(casa_1, cv2.COLOR_BGR2GRAY)\n",
    "casa_2= cv2.imread('house/casa 2.jpg')\n",
    "casa_2_aspecto= cv2.imread('house/casa 2 - cambiando relacion aspecto.jpg')\n",
    "casa_3= cv2.imread('house/casa 3.jpg')\n",
    "\n",
    "casa_1= cv2.resize(casa_1, (10000, 10000)) \n",
    "casa_1_gris= cv2.resize(casa_1_gris, (10000, 10000)) \n",
    "casa_2= cv2.resize(casa_2, (10000, 10000)) \n",
    "casa_2_aspecto= cv2.resize(casa_2_aspecto, (10000, 10000))\n",
    "casa_3= cv2.resize(casa_3, (10000, 10000))\n"
   ]
  },
  {
   "cell_type": "code",
   "execution_count": 38,
   "metadata": {},
   "outputs": [],
   "source": [
    "#Resizing the images look into zero patting\n",
    "\n",
    "dog_1= cv2.resize(dog_1, (10000, 10000)) \n",
    "dog_2= cv2.resize(dog_2, (10000, 10000)) \n",
    "dog_3= cv2.resize(dog_3, (10000, 10000)) \n",
    "gate= cv2.resize(gate,(10000, 10000))\n",
    "cat_1= cv2.resize(cat_1, (10000, 10000))\n",
    "cat_2= cv2.resize(cat_2, (10000, 10000))\n",
    "cat_3= cv2.resize(cat_3, (10000, 10000))\n"
   ]
  },
  {
   "cell_type": "code",
   "execution_count": 39,
   "metadata": {},
   "outputs": [],
   "source": [
    "#Converting to grayscale cv2.cvtColor(original, cv2.COLOR_BGR2GRAY)\n",
    "dog_1= cv2.cvtColor(dog_1, cv2.COLOR_BGR2GRAY)\n",
    "dog_2= cv2.cvtColor(dog_2, cv2.COLOR_BGR2GRAY)\n",
    "dog_3= cv2.cvtColor(dog_3, cv2.COLOR_BGR2GRAY)\n",
    "gate= cv2.cvtColor(gate, cv2.COLOR_BGR2GRAY)\n",
    "cat_1= cv2.cvtColor(cat_1, cv2.COLOR_BGR2GRAY)\n",
    "cat_2= cv2.cvtColor(cat_2, cv2.COLOR_BGR2GRAY)\n",
    "cat_3= cv2.cvtColor(cat_3, cv2.COLOR_BGR2GRAY)"
   ]
  },
  {
   "cell_type": "code",
   "execution_count": 41,
   "metadata": {
    "scrolled": false
   },
   "outputs": [
    {
     "data": {
      "image/png": "[encoded data removed]",
      "text/plain": [
       "<Figure size 432x288 with 5 Axes>"
      ]
     },
     "metadata": {
      "needs_background": "light"
     },
     "output_type": "display_data"
    }
   ],
   "source": [
    "# initialize the figure\n",
    "fig = plt.figure(\"DOGS a gate and CATS!\")\n",
    "images = (\"Casa 1\", casa_1), (\"casa_1_gris\", casa_1_gris), (\"casa_2\", casa_2), ('casa_2_aspecto', casa_2_aspecto), ('casa_3', casa_3)\n",
    "# loop over the images\n",
    "for (i, (name, image)) in enumerate(images):\n",
    "    # show the image\n",
    "    ax = fig.add_subplot(1, 7, i + 1)\n",
    "#     ax.set_title(name)\n",
    "    plt.imshow(image, cmap = plt.cm.gray)\n",
    "    plt.axis(\"off\")\n",
    "\n",
    "# show the figure\n",
    "plt.show();"
   ]
  },
  {
   "cell_type": "code",
   "execution_count": 42,
   "metadata": {},
   "outputs": [
    {
     "ename": "ValueError",
     "evalue": "operands could not be broadcast together with shapes (10000,10000,3) (10000,10000) ",
     "output_type": "error",
     "traceback": [
      "\u001b[1;31m---------------------------------------------------------------------------\u001b[0m",
      "\u001b[1;31mValueError\u001b[0m                                Traceback (most recent call last)",
      "\u001b[1;32m<ipython-input-42-73c4b089b123>\u001b[0m in \u001b[0;36m<module>\u001b[1;34m\u001b[0m\n\u001b[0;32m      1\u001b[0m \u001b[1;31m# compare the images\u001b[0m\u001b[1;33m\u001b[0m\u001b[1;33m\u001b[0m\u001b[1;33m\u001b[0m\u001b[0m\n\u001b[1;32m----> 2\u001b[1;33m \u001b[0mcompare_image\u001b[0m\u001b[1;33m(\u001b[0m\u001b[0mcasa_1\u001b[0m\u001b[1;33m,\u001b[0m \u001b[0mcasa_1_gris\u001b[0m\u001b[1;33m,\u001b[0m \u001b[1;34m\"casa_1, casa_1_gris\"\u001b[0m\u001b[1;33m)\u001b[0m\u001b[1;33m\u001b[0m\u001b[1;33m\u001b[0m\u001b[0m\n\u001b[0m",
      "\u001b[1;32m<ipython-input-19-caf7c4d897b2>\u001b[0m in \u001b[0;36mcompare_image\u001b[1;34m(imageA, imageB, title)\u001b[0m\n\u001b[0;32m      1\u001b[0m \u001b[1;32mdef\u001b[0m \u001b[0mcompare_image\u001b[0m\u001b[1;33m(\u001b[0m\u001b[0mimageA\u001b[0m\u001b[1;33m,\u001b[0m \u001b[0mimageB\u001b[0m\u001b[1;33m,\u001b[0m \u001b[0mtitle\u001b[0m\u001b[1;33m)\u001b[0m\u001b[1;33m:\u001b[0m\u001b[1;33m\u001b[0m\u001b[1;33m\u001b[0m\u001b[0m\n\u001b[1;32m----> 2\u001b[1;33m     \u001b[0mm\u001b[0m\u001b[1;33m=\u001b[0m \u001b[0mmse\u001b[0m\u001b[1;33m(\u001b[0m\u001b[0mimageA\u001b[0m\u001b[1;33m,\u001b[0m \u001b[0mimageB\u001b[0m\u001b[1;33m)\u001b[0m\u001b[1;33m\u001b[0m\u001b[1;33m\u001b[0m\u001b[0m\n\u001b[0m\u001b[0;32m      3\u001b[0m     \u001b[1;31m#s= ssim(imageA, imageB)\u001b[0m\u001b[1;33m\u001b[0m\u001b[1;33m\u001b[0m\u001b[1;33m\u001b[0m\u001b[0m\n\u001b[0;32m      4\u001b[0m     \u001b[0mfig\u001b[0m\u001b[1;33m=\u001b[0m \u001b[0mplt\u001b[0m\u001b[1;33m.\u001b[0m\u001b[0mfigure\u001b[0m\u001b[1;33m(\u001b[0m\u001b[0mtitle\u001b[0m\u001b[1;33m)\u001b[0m\u001b[1;33m\u001b[0m\u001b[1;33m\u001b[0m\u001b[0m\n\u001b[0;32m      5\u001b[0m     \u001b[1;31m#plt.suptitle(\"MSE: %.2f, SSIM: %.2f\" % (m, s))\u001b[0m\u001b[1;33m\u001b[0m\u001b[1;33m\u001b[0m\u001b[1;33m\u001b[0m\u001b[0m\n",
      "\u001b[1;32m<ipython-input-18-2da37871a593>\u001b[0m in \u001b[0;36mmse\u001b[1;34m(imageA, imageB)\u001b[0m\n\u001b[0;32m      1\u001b[0m \u001b[1;32mdef\u001b[0m \u001b[0mmse\u001b[0m\u001b[1;33m(\u001b[0m\u001b[0mimageA\u001b[0m\u001b[1;33m,\u001b[0m \u001b[0mimageB\u001b[0m\u001b[1;33m)\u001b[0m\u001b[1;33m:\u001b[0m\u001b[1;33m\u001b[0m\u001b[1;33m\u001b[0m\u001b[0m\n\u001b[1;32m----> 2\u001b[1;33m     \u001b[0merr\u001b[0m\u001b[1;33m=\u001b[0m \u001b[0mnp\u001b[0m\u001b[1;33m.\u001b[0m\u001b[0msum\u001b[0m\u001b[1;33m(\u001b[0m\u001b[1;33m(\u001b[0m\u001b[0mimageA\u001b[0m\u001b[1;33m.\u001b[0m\u001b[0mastype\u001b[0m\u001b[1;33m(\u001b[0m\u001b[1;34m\"float\"\u001b[0m\u001b[1;33m)\u001b[0m \u001b[1;33m-\u001b[0m \u001b[0mimageB\u001b[0m\u001b[1;33m.\u001b[0m\u001b[0mastype\u001b[0m\u001b[1;33m(\u001b[0m\u001b[1;34m\"float\"\u001b[0m\u001b[1;33m)\u001b[0m\u001b[1;33m)\u001b[0m \u001b[1;33m**\u001b[0m \u001b[1;36m2\u001b[0m\u001b[1;33m)\u001b[0m\u001b[1;33m\u001b[0m\u001b[1;33m\u001b[0m\u001b[0m\n\u001b[0m\u001b[0;32m      3\u001b[0m     \u001b[0merr\u001b[0m \u001b[1;33m/=\u001b[0m \u001b[0mfloat\u001b[0m\u001b[1;33m(\u001b[0m\u001b[0mimageA\u001b[0m\u001b[1;33m.\u001b[0m\u001b[0mshape\u001b[0m\u001b[1;33m[\u001b[0m\u001b[1;36m0\u001b[0m\u001b[1;33m]\u001b[0m \u001b[1;33m*\u001b[0m \u001b[0mimageA\u001b[0m\u001b[1;33m.\u001b[0m\u001b[0mshape\u001b[0m\u001b[1;33m[\u001b[0m\u001b[1;36m1\u001b[0m\u001b[1;33m]\u001b[0m\u001b[1;33m)\u001b[0m\u001b[1;33m\u001b[0m\u001b[1;33m\u001b[0m\u001b[0m\n\u001b[0;32m      4\u001b[0m     \u001b[1;32mreturn\u001b[0m \u001b[0merr\u001b[0m\u001b[1;33m\u001b[0m\u001b[1;33m\u001b[0m\u001b[0m\n",
      "\u001b[1;31mValueError\u001b[0m: operands could not be broadcast together with shapes (10000,10000,3) (10000,10000) "
     ]
    }
   ],
   "source": [
    "# compare the images\n",
    "compare_image(casa_1, casa_1_gris, \"casa_1, casa_1_gris\")"
   ]
  },
  {
   "cell_type": "code",
   "execution_count": null,
   "metadata": {},
   "outputs": [],
   "source": []
  },
  {
   "cell_type": "code",
   "execution_count": null,
   "metadata": {},
   "outputs": [],
   "source": [
    "\n",
    "compare_image(casa_1, casa_2, \"casa_1, casa_2\")\n",
    "compare_image(casa_1,casa_3, \"casa_1,casa_3\")\n",
    "compare_image(casa_2,casa_2_aspecto, \"casa_2,casa_2_aspecto\")\n",
    "compare_image(casa_2,casa_3, \"casa_2,casa_3\")"
   ]
  },
  {
   "cell_type": "markdown",
   "metadata": {},
   "source": [
    "# Tensorflow Image Classification"
   ]
  },
  {
   "cell_type": "code",
   "execution_count": 16,
   "metadata": {},
   "outputs": [
    {
     "ename": "ModuleNotFoundError",
     "evalue": "No module named 'tensorflow'",
     "output_type": "error",
     "traceback": [
      "\u001b[1;31m---------------------------------------------------------------------------\u001b[0m",
      "\u001b[1;31mModuleNotFoundError\u001b[0m                       Traceback (most recent call last)",
      "\u001b[1;32m<ipython-input-16-64156d691fe5>\u001b[0m in \u001b[0;36m<module>\u001b[1;34m\u001b[0m\n\u001b[1;32m----> 1\u001b[1;33m \u001b[1;32mimport\u001b[0m \u001b[0mtensorflow\u001b[0m \u001b[1;32mas\u001b[0m \u001b[0mtf\u001b[0m\u001b[1;33m\u001b[0m\u001b[1;33m\u001b[0m\u001b[0m\n\u001b[0m",
      "\u001b[1;31mModuleNotFoundError\u001b[0m: No module named 'tensorflow'"
     ]
    }
   ],
   "source": [
    "import tensorflow as tf"
   ]
  },
  {
   "cell_type": "code",
   "execution_count": 45,
   "metadata": {},
   "outputs": [
    {
     "ename": "TypeError",
     "evalue": "'module' object is not callable",
     "output_type": "error",
     "traceback": [
      "\u001b[0;31m---------------------------------------------------------------------------\u001b[0m",
      "\u001b[0;31mTypeError\u001b[0m                                 Traceback (most recent call last)",
      "\u001b[0;32m<ipython-input-45-81043ae7cc48>\u001b[0m in \u001b[0;36m<module>\u001b[0;34m\u001b[0m\n\u001b[0;32m----> 1\u001b[0;31m \u001b[0mdog_1\u001b[0m\u001b[0;34m=\u001b[0m \u001b[0mtf\u001b[0m\u001b[0;34m.\u001b[0m\u001b[0mimage\u001b[0m\u001b[0;34m(\u001b[0m\u001b[0;34m'images/dog-1.png'\u001b[0m\u001b[0;34m)\u001b[0m\u001b[0;34m\u001b[0m\u001b[0m\n\u001b[0m",
      "\u001b[0;31mTypeError\u001b[0m: 'module' object is not callable"
     ]
    }
   ],
   "source": [
    "dog_1= tf.image('dogs/dog-1.png')"
   ]
  },
  {
   "cell_type": "code",
   "execution_count": null,
   "metadata": {},
   "outputs": [],
   "source": [
    "tf.image.decode_png(\n",
    "    contents,\n",
    "    channels=0,\n",
    "    dtype=tf.uint8,\n",
    "    name=None\n",
    ")"
   ]
  },
  {
   "cell_type": "code",
   "execution_count": null,
   "metadata": {
    "scrolled": true
   },
   "outputs": [],
   "source": [
    "dog1 = tf.image.decode_png('images/dog-1.png', tf.float32)"
   ]
  },
  {
   "cell_type": "code",
   "execution_count": null,
   "metadata": {},
   "outputs": [],
   "source": [
    "dog2= tf.image.decode_png('images/dog-2.png', tf.float32)"
   ]
  },
  {
   "cell_type": "code",
   "execution_count": null,
   "metadata": {},
   "outputs": [],
   "source": [
    "ssim1 = tf.image.ssim(dog1, dog2, max_val=1.0)"
   ]
  },
  {
   "cell_type": "code",
   "execution_count": null,
   "metadata": {},
   "outputs": [],
   "source": [
    "ssim1"
   ]
  },
  {
   "cell_type": "code",
   "execution_count": null,
   "metadata": {
    "scrolled": true
   },
   "outputs": [],
   "source": [
    "(dog1.shape[:-3], dog2.shape[:-3])"
   ]
  }
 ],
 "metadata": {
  "kernelspec": {
   "display_name": "Python 3",
   "language": "python",
   "name": "python3"
  },
  "language_info": {
   "codemirror_mode": {
    "name": "ipython",
    "version": 3
   },
   "file_extension": ".py",
   "mimetype": "text/x-python",
   "name": "python",
   "nbconvert_exporter": "python",
   "pygments_lexer": "ipython3",
   "version": "3.7.4"
  }
 },
 "nbformat": 4,
 "nbformat_minor": 2
}
